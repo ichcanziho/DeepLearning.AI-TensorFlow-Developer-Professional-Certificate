{
  "cells": [
    {
      "cell_type": "markdown",
      "metadata": {
        "id": "ATpMNnebF54U"
      },
      "source": [
        "<a href=\"https://colab.research.google.com/github/https-deeplearning-ai/tensorflow-1-public/blob/main/C4/W3/ungraded_labs/C4_W3_Lab_2_LSTM.ipynb\" target=\"_parent\"><img src=\"https://colab.research.google.com/assets/colab-badge.svg\" alt=\"Open In Colab\"/></a>"
      ]
    },
    {
      "cell_type": "markdown",
      "metadata": {
        "id": "sV_nvXSQGJPK"
      },
      "source": [
        "# Ungraded Lab: Using a multi-layer LSTM for forecasting\n",
        "\n",
        "In this lab, you will use the same RNN architecure in the first lab but will instead stack [LSTM](https://www.tensorflow.org/api_docs/python/tf/keras/layers/LSTM) layers instead of `SimpleRNN`."
      ]
    },
    {
      "cell_type": "markdown",
      "metadata": {
        "id": "3IMbAWETGOWD"
      },
      "source": [
        "## Imports"
      ]
    },
    {
      "cell_type": "code",
      "execution_count": 1,
      "metadata": {
        "id": "BOjujz601HcS"
      },
      "outputs": [],
      "source": [
        "import tensorflow as tf\n",
        "import numpy as np\n",
        "import matplotlib.pyplot as plt"
      ]
    },
    {
      "cell_type": "markdown",
      "metadata": {
        "id": "kD7RQQ0xGQVH"
      },
      "source": [
        "## Utilities"
      ]
    },
    {
      "cell_type": "code",
      "execution_count": 2,
      "metadata": {
        "id": "Zswl7jRtGzkk"
      },
      "outputs": [],
      "source": [
        "def plot_series(time, series, format=\"-\", start=0, end=None):\n",
        "    \"\"\"\n",
        "    Visualizes time series data\n",
        "\n",
        "    Args:\n",
        "      time (array of int) - contains the time steps\n",
        "      series (array of int) - contains the measurements for each time step\n",
        "      format - line style when plotting the graph\n",
        "      start - first time step to plot\n",
        "      end - last time step to plot\n",
        "    \"\"\"\n",
        "\n",
        "    # Setup dimensions of the graph figure\n",
        "    plt.figure(figsize=(10, 6))\n",
        "\n",
        "    if type(series) is tuple:\n",
        "\n",
        "      for series_num in series:\n",
        "        # Plot the time series data\n",
        "        plt.plot(time[start:end], series_num[start:end], format)\n",
        "\n",
        "    else:\n",
        "      # Plot the time series data\n",
        "      plt.plot(time[start:end], series[start:end], format)\n",
        "\n",
        "    # Label the x-axis\n",
        "    plt.xlabel(\"Time\")\n",
        "\n",
        "    # Label the y-axis\n",
        "    plt.ylabel(\"Value\")\n",
        "\n",
        "    # Overlay a grid on the graph\n",
        "    plt.grid(True)\n",
        "\n",
        "    # Draw the graph on screen\n",
        "    plt.show()\n",
        "\n",
        "def trend(time, slope=0):\n",
        "    \"\"\"\n",
        "    Generates synthetic data that follows a straight line given a slope value.\n",
        "\n",
        "    Args:\n",
        "      time (array of int) - contains the time steps\n",
        "      slope (float) - determines the direction and steepness of the line\n",
        "\n",
        "    Returns:\n",
        "      series (array of float) - measurements that follow a straight line\n",
        "    \"\"\"\n",
        "\n",
        "    # Compute the linear series given the slope\n",
        "    series = slope * time\n",
        "\n",
        "    return series\n",
        "\n",
        "def seasonal_pattern(season_time):\n",
        "    \"\"\"\n",
        "    Just an arbitrary pattern, you can change it if you wish\n",
        "\n",
        "    Args:\n",
        "      season_time (array of float) - contains the measurements per time step\n",
        "\n",
        "    Returns:\n",
        "      data_pattern (array of float) -  contains revised measurement values according\n",
        "                                  to the defined pattern\n",
        "    \"\"\"\n",
        "\n",
        "    # Generate the values using an arbitrary pattern\n",
        "    data_pattern = np.where(season_time < 0.4,\n",
        "                    np.cos(season_time * 2 * np.pi),\n",
        "                    1 / np.exp(3 * season_time))\n",
        "\n",
        "    return data_pattern\n",
        "\n",
        "def seasonality(time, period, amplitude=1, phase=0):\n",
        "    \"\"\"\n",
        "    Repeats the same pattern at each period\n",
        "\n",
        "    Args:\n",
        "      time (array of int) - contains the time steps\n",
        "      period (int) - number of time steps before the pattern repeats\n",
        "      amplitude (int) - peak measured value in a period\n",
        "      phase (int) - number of time steps to shift the measured values\n",
        "\n",
        "    Returns:\n",
        "      data_pattern (array of float) - seasonal data scaled by the defined amplitude\n",
        "    \"\"\"\n",
        "\n",
        "    # Define the measured values per period\n",
        "    season_time = ((time + phase) % period) / period\n",
        "\n",
        "    # Generates the seasonal data scaled by the defined amplitude\n",
        "    data_pattern = amplitude * seasonal_pattern(season_time)\n",
        "\n",
        "    return data_pattern\n",
        "\n",
        "def noise(time, noise_level=1, seed=None):\n",
        "    \"\"\"Generates a normally distributed noisy signal\n",
        "\n",
        "    Args:\n",
        "      time (array of int) - contains the time steps\n",
        "      noise_level (float) - scaling factor for the generated signal\n",
        "      seed (int) - number generator seed for repeatability\n",
        "\n",
        "    Returns:\n",
        "      noise (array of float) - the noisy signal\n",
        "    \"\"\"\n",
        "\n",
        "    # Initialize the random number generator\n",
        "    rnd = np.random.RandomState(seed)\n",
        "\n",
        "    # Generate a random number for each time step and scale by the noise level\n",
        "    noise = rnd.randn(len(time)) * noise_level\n",
        "\n",
        "    return noise"
      ]
    },
    {
      "cell_type": "markdown",
      "metadata": {
        "id": "yxNyeFWjGSdj"
      },
      "source": [
        "## Generate the Synthetic Data"
      ]
    },
    {
      "cell_type": "code",
      "execution_count": 3,
      "metadata": {
        "id": "KYEUfDbdpHPm",
        "colab": {
          "base_uri": "https://localhost:8080/",
          "height": 542
        },
        "outputId": "c6e74df0-cc81-4ebd-ad69-a2323aa06016"
      },
      "outputs": [
        {
          "output_type": "display_data",
          "data": {
            "text/plain": [
              "<Figure size 1000x600 with 1 Axes>"
            ],
            "image/png": "[encoded data removed]"
          },
          "metadata": {}
        }
      ],
      "source": [
        "# Parameters\n",
        "time = np.arange(4 * 365 + 1, dtype=\"float32\")\n",
        "baseline = 10\n",
        "amplitude = 40\n",
        "slope = 0.05\n",
        "noise_level = 5\n",
        "\n",
        "# Create the series\n",
        "series = baseline + trend(time, slope) + seasonality(time, period=365, amplitude=amplitude)\n",
        "\n",
        "# Update with noise\n",
        "series += noise(time, noise_level, seed=42)\n",
        "\n",
        "# Plot the results\n",
        "plot_series(time, series)"
      ]
    },
    {
      "cell_type": "markdown",
      "metadata": {
        "id": "MYKCvv-eGWRc"
      },
      "source": [
        "## Split the Dataset"
      ]
    },
    {
      "cell_type": "code",
      "execution_count": 4,
      "metadata": {
        "id": "hpp0slenpKVD"
      },
      "outputs": [],
      "source": [
        "# Define the split time\n",
        "split_time = 1000\n",
        "\n",
        "# Get the train set\n",
        "time_train = time[:split_time]\n",
        "x_train = series[:split_time]\n",
        "\n",
        "# Get the validation set\n",
        "time_valid = time[split_time:]\n",
        "x_valid = series[split_time:]"
      ]
    },
    {
      "cell_type": "markdown",
      "metadata": {
        "id": "cktHz9aOGYtV"
      },
      "source": [
        "## Prepare Features and Labels"
      ]
    },
    {
      "cell_type": "code",
      "execution_count": 5,
      "metadata": {
        "id": "G_j_2_Mqwn7-"
      },
      "outputs": [],
      "source": [
        "# Parameters\n",
        "window_size = 20\n",
        "batch_size = 32\n",
        "shuffle_buffer_size = 1000"
      ]
    },
    {
      "cell_type": "code",
      "execution_count": 6,
      "metadata": {
        "id": "4sTTIOCbyShY"
      },
      "outputs": [],
      "source": [
        "def windowed_dataset(series, window_size, batch_size, shuffle_buffer):\n",
        "    \"\"\"Generates dataset windows\n",
        "\n",
        "    Args:\n",
        "      series (array of float) - contains the values of the time series\n",
        "      window_size (int) - the number of time steps to include in the feature\n",
        "      batch_size (int) - the batch size\n",
        "      shuffle_buffer(int) - buffer size to use for the shuffle method\n",
        "\n",
        "    Returns:\n",
        "      dataset (TF Dataset) - TF Dataset containing time windows\n",
        "    \"\"\"\n",
        "\n",
        "    # Generate a TF Dataset from the series values\n",
        "    dataset = tf.data.Dataset.from_tensor_slices(series)\n",
        "\n",
        "    # Window the data but only take those with the specified size\n",
        "    dataset = dataset.window(window_size + 1, shift=1, drop_remainder=True)\n",
        "\n",
        "    # Flatten the windows by putting its elements in a single batch\n",
        "    dataset = dataset.flat_map(lambda window: window.batch(window_size + 1))\n",
        "\n",
        "    # Create tuples with features and labels\n",
        "    dataset = dataset.map(lambda window: (window[:-1], window[-1]))\n",
        "\n",
        "    # Shuffle the windows\n",
        "    dataset = dataset.shuffle(shuffle_buffer)\n",
        "\n",
        "    # Create batches of windows\n",
        "    dataset = dataset.batch(batch_size).prefetch(1)\n",
        "\n",
        "    return dataset"
      ]
    },
    {
      "cell_type": "code",
      "execution_count": 7,
      "metadata": {
        "id": "vGj5-InSwtQQ"
      },
      "outputs": [],
      "source": [
        "# Generate the dataset windows\n",
        "dataset = windowed_dataset(x_train, window_size, batch_size, shuffle_buffer_size)"
      ]
    },
    {
      "cell_type": "markdown",
      "metadata": {
        "id": "p9-Ke8ZaGcjd"
      },
      "source": [
        "## Build the Model\n",
        "\n",
        "As mentioned, you will swap `SimpleRNN` for `LSTM` in this lab. It is also set as bidirectional below but feel free to revise later and see what results you get. LSTMs are much more complex in their internal architecture than simpleRNNs. It implements a cell state that allows it to remember sequences better than simple implementations. This added complexity results in a bigger set of parameters to train and you'll see that when you print the model summary below."
      ]
    },
    {
      "cell_type": "code",
      "execution_count": 8,
      "metadata": {
        "id": "A1Hl39rklkLm",
        "colab": {
          "base_uri": "https://localhost:8080/"
        },
        "outputId": "9adcdb0b-9c3b-4363-a001-6890cb62eee6"
      },
      "outputs": [
        {
          "output_type": "stream",
          "name": "stdout",
          "text": [
            "Model: \"sequential\"\n",
            "_________________________________________________________________\n",
            " Layer (type)                Output Shape              Param #   \n",
            "=================================================================\n",
            " lambda (Lambda)             (None, 20, 1)             0         \n",
            "                                                                 \n",
            " bidirectional (Bidirection  (None, 20, 64)            8704      \n",
            " al)                                                             \n",
            "                                                                 \n",
            " bidirectional_1 (Bidirecti  (None, 64)                24832     \n",
            " onal)                                                           \n",
            "                                                                 \n",
            " dense (Dense)               (None, 1)                 65        \n",
            "                                                                 \n",
            " lambda_1 (Lambda)           (None, 1)                 0         \n",
            "                                                                 \n",
            "=================================================================\n",
            "Total params: 33601 (131.25 KB)\n",
            "Trainable params: 33601 (131.25 KB)\n",
            "Non-trainable params: 0 (0.00 Byte)\n",
            "_________________________________________________________________\n"
          ]
        }
      ],
      "source": [
        "# Build the Model\n",
        "model_tune = tf.keras.models.Sequential([\n",
        "  tf.keras.layers.Lambda(lambda x: tf.expand_dims(x, axis=-1),\n",
        "                      input_shape=[window_size]),\n",
        "    tf.keras.layers.Bidirectional(tf.keras.layers.LSTM(32, return_sequences=True)),\n",
        "  tf.keras.layers.Bidirectional(tf.keras.layers.LSTM(32)),\n",
        "  tf.keras.layers.Dense(1),\n",
        "  tf.keras.layers.Lambda(lambda x: x * 100.0)\n",
        "])\n",
        "\n",
        "# Print the model summary\n",
        "model_tune.summary()"
      ]
    },
    {
      "cell_type": "markdown",
      "metadata": {
        "id": "FHaFblbwq0GV"
      },
      "source": [
        "## Tune the Learning Rate\n",
        "\n",
        "As usual, you will pick a learning rate by running the tuning code below."
      ]
    },
    {
      "cell_type": "code",
      "execution_count": 9,
      "metadata": {
        "id": "qE7al18qw48G",
        "colab": {
          "base_uri": "https://localhost:8080/"
        },
        "outputId": "0186645b-bc1d-45e3-ad68-80197f4ed700"
      },
      "outputs": [
        {
          "output_type": "stream",
          "name": "stdout",
          "text": [
            "Epoch 1/100\n",
            "31/31 [==============================] - 17s 10ms/step - loss: 38.2755 - lr: 1.0000e-08\n",
            "Epoch 2/100\n",
            "31/31 [==============================] - 0s 10ms/step - loss: 37.4610 - lr: 1.1220e-08\n",
            "Epoch 3/100\n",
            "31/31 [==============================] - 0s 9ms/step - loss: 36.4703 - lr: 1.2589e-08\n",
            "Epoch 4/100\n",
            "31/31 [==============================] - 1s 12ms/step - loss: 35.3732 - lr: 1.4125e-08\n",
            "Epoch 5/100\n",
            "31/31 [==============================] - 1s 13ms/step - loss: 34.1508 - lr: 1.5849e-08\n",
            "Epoch 6/100\n",
            "31/31 [==============================] - 1s 14ms/step - loss: 32.8030 - lr: 1.7783e-08\n",
            "Epoch 7/100\n",
            "31/31 [==============================] - 0s 9ms/step - loss: 31.3293 - lr: 1.9953e-08\n",
            "Epoch 8/100\n",
            "31/31 [==============================] - 0s 10ms/step - loss: 29.7272 - lr: 2.2387e-08\n",
            "Epoch 9/100\n",
            "31/31 [==============================] - 0s 9ms/step - loss: 27.9746 - lr: 2.5119e-08\n",
            "Epoch 10/100\n",
            "31/31 [==============================] - 0s 9ms/step - loss: 26.0586 - lr: 2.8184e-08\n",
            "Epoch 11/100\n",
            "31/31 [==============================] - 0s 9ms/step - loss: 24.0000 - lr: 3.1623e-08\n",
            "Epoch 12/100\n",
            "31/31 [==============================] - 0s 9ms/step - loss: 21.8881 - lr: 3.5481e-08\n",
            "Epoch 13/100\n",
            "31/31 [==============================] - 0s 9ms/step - loss: 19.8921 - lr: 3.9811e-08\n",
            "Epoch 14/100\n",
            "31/31 [==============================] - 0s 9ms/step - loss: 18.1621 - lr: 4.4668e-08\n",
            "Epoch 15/100\n",
            "31/31 [==============================] - 0s 9ms/step - loss: 16.7504 - lr: 5.0119e-08\n",
            "Epoch 16/100\n",
            "31/31 [==============================] - 0s 9ms/step - loss: 15.6717 - lr: 5.6234e-08\n",
            "Epoch 17/100\n",
            "31/31 [==============================] - 0s 9ms/step - loss: 14.8274 - lr: 6.3096e-08\n",
            "Epoch 18/100\n",
            "31/31 [==============================] - 0s 10ms/step - loss: 14.1603 - lr: 7.0795e-08\n",
            "Epoch 19/100\n",
            "31/31 [==============================] - 0s 9ms/step - loss: 13.6119 - lr: 7.9433e-08\n",
            "Epoch 20/100\n",
            "31/31 [==============================] - 0s 9ms/step - loss: 13.1992 - lr: 8.9125e-08\n",
            "Epoch 21/100\n",
            "31/31 [==============================] - 0s 9ms/step - loss: 12.8188 - lr: 1.0000e-07\n",
            "Epoch 22/100\n",
            "31/31 [==============================] - 0s 9ms/step - loss: 12.4931 - lr: 1.1220e-07\n",
            "Epoch 23/100\n",
            "31/31 [==============================] - 0s 9ms/step - loss: 12.1674 - lr: 1.2589e-07\n",
            "Epoch 24/100\n",
            "31/31 [==============================] - 0s 8ms/step - loss: 11.8247 - lr: 1.4125e-07\n",
            "Epoch 25/100\n",
            "31/31 [==============================] - 0s 9ms/step - loss: 11.4577 - lr: 1.5849e-07\n",
            "Epoch 26/100\n",
            "31/31 [==============================] - 0s 9ms/step - loss: 11.0508 - lr: 1.7783e-07\n",
            "Epoch 27/100\n",
            "31/31 [==============================] - 0s 9ms/step - loss: 10.6190 - lr: 1.9953e-07\n",
            "Epoch 28/100\n",
            "31/31 [==============================] - 1s 14ms/step - loss: 10.1698 - lr: 2.2387e-07\n",
            "Epoch 29/100\n",
            "31/31 [==============================] - 1s 13ms/step - loss: 9.7202 - lr: 2.5119e-07\n",
            "Epoch 30/100\n",
            "31/31 [==============================] - 1s 14ms/step - loss: 9.2903 - lr: 2.8184e-07\n",
            "Epoch 31/100\n",
            "31/31 [==============================] - 1s 13ms/step - loss: 8.8843 - lr: 3.1623e-07\n",
            "Epoch 32/100\n",
            "31/31 [==============================] - 0s 9ms/step - loss: 8.5228 - lr: 3.5481e-07\n",
            "Epoch 33/100\n",
            "31/31 [==============================] - 0s 9ms/step - loss: 8.2162 - lr: 3.9811e-07\n",
            "Epoch 34/100\n",
            "31/31 [==============================] - 0s 9ms/step - loss: 7.9134 - lr: 4.4668e-07\n",
            "Epoch 35/100\n",
            "31/31 [==============================] - 0s 9ms/step - loss: 7.6547 - lr: 5.0119e-07\n",
            "Epoch 36/100\n",
            "31/31 [==============================] - 0s 9ms/step - loss: 7.4633 - lr: 5.6234e-07\n",
            "Epoch 37/100\n",
            "31/31 [==============================] - 0s 8ms/step - loss: 7.3168 - lr: 6.3096e-07\n",
            "Epoch 38/100\n",
            "31/31 [==============================] - 0s 9ms/step - loss: 7.1562 - lr: 7.0795e-07\n",
            "Epoch 39/100\n",
            "31/31 [==============================] - 0s 9ms/step - loss: 7.0860 - lr: 7.9433e-07\n",
            "Epoch 40/100\n",
            "31/31 [==============================] - 0s 9ms/step - loss: 6.9590 - lr: 8.9125e-07\n",
            "Epoch 41/100\n",
            "31/31 [==============================] - 0s 9ms/step - loss: 6.8553 - lr: 1.0000e-06\n",
            "Epoch 42/100\n",
            "31/31 [==============================] - 0s 9ms/step - loss: 6.7736 - lr: 1.1220e-06\n",
            "Epoch 43/100\n",
            "31/31 [==============================] - 0s 9ms/step - loss: 6.7157 - lr: 1.2589e-06\n",
            "Epoch 44/100\n",
            "31/31 [==============================] - 0s 9ms/step - loss: 6.6274 - lr: 1.4125e-06\n",
            "Epoch 45/100\n",
            "31/31 [==============================] - 0s 9ms/step - loss: 6.5318 - lr: 1.5849e-06\n",
            "Epoch 46/100\n",
            "31/31 [==============================] - 0s 8ms/step - loss: 6.4410 - lr: 1.7783e-06\n",
            "Epoch 47/100\n",
            "31/31 [==============================] - 0s 9ms/step - loss: 6.3682 - lr: 1.9953e-06\n",
            "Epoch 48/100\n",
            "31/31 [==============================] - 0s 9ms/step - loss: 6.2786 - lr: 2.2387e-06\n",
            "Epoch 49/100\n",
            "31/31 [==============================] - 0s 9ms/step - loss: 6.1350 - lr: 2.5119e-06\n",
            "Epoch 50/100\n",
            "31/31 [==============================] - 0s 9ms/step - loss: 6.1022 - lr: 2.8184e-06\n",
            "Epoch 51/100\n",
            "31/31 [==============================] - 0s 10ms/step - loss: 5.9572 - lr: 3.1623e-06\n",
            "Epoch 52/100\n",
            "31/31 [==============================] - 0s 9ms/step - loss: 5.8174 - lr: 3.5481e-06\n",
            "Epoch 53/100\n",
            "31/31 [==============================] - 1s 14ms/step - loss: 5.8367 - lr: 3.9811e-06\n",
            "Epoch 54/100\n",
            "31/31 [==============================] - 1s 12ms/step - loss: 5.8212 - lr: 4.4668e-06\n",
            "Epoch 55/100\n",
            "31/31 [==============================] - 1s 10ms/step - loss: 5.7212 - lr: 5.0119e-06\n",
            "Epoch 56/100\n",
            "31/31 [==============================] - 0s 9ms/step - loss: 5.5072 - lr: 5.6234e-06\n",
            "Epoch 57/100\n",
            "31/31 [==============================] - 0s 9ms/step - loss: 5.2583 - lr: 6.3096e-06\n",
            "Epoch 58/100\n",
            "31/31 [==============================] - 0s 9ms/step - loss: 5.3673 - lr: 7.0795e-06\n",
            "Epoch 59/100\n",
            "31/31 [==============================] - 0s 9ms/step - loss: 5.4668 - lr: 7.9433e-06\n",
            "Epoch 60/100\n",
            "31/31 [==============================] - 0s 9ms/step - loss: 5.4841 - lr: 8.9125e-06\n",
            "Epoch 61/100\n",
            "31/31 [==============================] - 0s 9ms/step - loss: 5.2007 - lr: 1.0000e-05\n",
            "Epoch 62/100\n",
            "31/31 [==============================] - 0s 9ms/step - loss: 5.5589 - lr: 1.1220e-05\n",
            "Epoch 63/100\n",
            "31/31 [==============================] - 0s 9ms/step - loss: 5.9805 - lr: 1.2589e-05\n",
            "Epoch 64/100\n",
            "31/31 [==============================] - 0s 9ms/step - loss: 5.4217 - lr: 1.4125e-05\n",
            "Epoch 65/100\n",
            "31/31 [==============================] - 0s 10ms/step - loss: 5.1058 - lr: 1.5849e-05\n",
            "Epoch 66/100\n",
            "31/31 [==============================] - 0s 10ms/step - loss: 5.0088 - lr: 1.7783e-05\n",
            "Epoch 67/100\n",
            "31/31 [==============================] - 0s 10ms/step - loss: 5.2288 - lr: 1.9953e-05\n",
            "Epoch 68/100\n",
            "31/31 [==============================] - 0s 9ms/step - loss: 5.0244 - lr: 2.2387e-05\n",
            "Epoch 69/100\n",
            "31/31 [==============================] - 0s 9ms/step - loss: 4.8781 - lr: 2.5119e-05\n",
            "Epoch 70/100\n",
            "31/31 [==============================] - 0s 9ms/step - loss: 4.8371 - lr: 2.8184e-05\n",
            "Epoch 71/100\n",
            "31/31 [==============================] - 0s 9ms/step - loss: 5.1334 - lr: 3.1623e-05\n",
            "Epoch 72/100\n",
            "31/31 [==============================] - 0s 10ms/step - loss: 5.5443 - lr: 3.5481e-05\n",
            "Epoch 73/100\n",
            "31/31 [==============================] - 0s 9ms/step - loss: 5.0823 - lr: 3.9811e-05\n",
            "Epoch 74/100\n",
            "31/31 [==============================] - 0s 9ms/step - loss: 5.0620 - lr: 4.4668e-05\n",
            "Epoch 75/100\n",
            "31/31 [==============================] - 0s 11ms/step - loss: 5.2716 - lr: 5.0119e-05\n",
            "Epoch 76/100\n",
            "31/31 [==============================] - 1s 12ms/step - loss: 5.2735 - lr: 5.6234e-05\n",
            "Epoch 77/100\n",
            "31/31 [==============================] - 1s 13ms/step - loss: 5.2396 - lr: 6.3096e-05\n",
            "Epoch 78/100\n",
            "31/31 [==============================] - 1s 14ms/step - loss: 4.9561 - lr: 7.0795e-05\n",
            "Epoch 79/100\n",
            "31/31 [==============================] - 0s 9ms/step - loss: 5.4984 - lr: 7.9433e-05\n",
            "Epoch 80/100\n",
            "31/31 [==============================] - 0s 10ms/step - loss: 6.4099 - lr: 8.9125e-05\n",
            "Epoch 81/100\n",
            "31/31 [==============================] - 0s 9ms/step - loss: 5.4033 - lr: 1.0000e-04\n",
            "Epoch 82/100\n",
            "31/31 [==============================] - 0s 9ms/step - loss: 6.5326 - lr: 1.1220e-04\n",
            "Epoch 83/100\n",
            "31/31 [==============================] - 0s 9ms/step - loss: 9.9938 - lr: 1.2589e-04\n",
            "Epoch 84/100\n",
            "31/31 [==============================] - 0s 9ms/step - loss: 10.3107 - lr: 1.4125e-04\n",
            "Epoch 85/100\n",
            "31/31 [==============================] - 0s 9ms/step - loss: 6.5427 - lr: 1.5849e-04\n",
            "Epoch 86/100\n",
            "31/31 [==============================] - 0s 8ms/step - loss: 6.0144 - lr: 1.7783e-04\n",
            "Epoch 87/100\n",
            "31/31 [==============================] - 0s 10ms/step - loss: 7.6833 - lr: 1.9953e-04\n",
            "Epoch 88/100\n",
            "31/31 [==============================] - 0s 9ms/step - loss: 5.9845 - lr: 2.2387e-04\n",
            "Epoch 89/100\n",
            "31/31 [==============================] - 0s 9ms/step - loss: 8.5001 - lr: 2.5119e-04\n",
            "Epoch 90/100\n",
            "31/31 [==============================] - 0s 10ms/step - loss: 5.8028 - lr: 2.8184e-04\n",
            "Epoch 91/100\n",
            "31/31 [==============================] - 0s 9ms/step - loss: 6.3349 - lr: 3.1623e-04\n",
            "Epoch 92/100\n",
            "31/31 [==============================] - 0s 9ms/step - loss: 5.6548 - lr: 3.5481e-04\n",
            "Epoch 93/100\n",
            "31/31 [==============================] - 0s 9ms/step - loss: 8.2770 - lr: 3.9811e-04\n",
            "Epoch 94/100\n",
            "31/31 [==============================] - 0s 9ms/step - loss: 7.5732 - lr: 4.4668e-04\n",
            "Epoch 95/100\n",
            "31/31 [==============================] - 0s 9ms/step - loss: 7.0803 - lr: 5.0119e-04\n",
            "Epoch 96/100\n",
            "31/31 [==============================] - 0s 9ms/step - loss: 8.1007 - lr: 5.6234e-04\n",
            "Epoch 97/100\n",
            "31/31 [==============================] - 0s 9ms/step - loss: 9.5046 - lr: 6.3096e-04\n",
            "Epoch 98/100\n",
            "31/31 [==============================] - 0s 9ms/step - loss: 9.7529 - lr: 7.0795e-04\n",
            "Epoch 99/100\n",
            "31/31 [==============================] - 0s 9ms/step - loss: 10.5077 - lr: 7.9433e-04\n",
            "Epoch 100/100\n",
            "31/31 [==============================] - 0s 9ms/step - loss: 11.1851 - lr: 8.9125e-04\n"
          ]
        }
      ],
      "source": [
        "# Set the learning rate scheduler\n",
        "lr_schedule = tf.keras.callbacks.LearningRateScheduler(\n",
        "    lambda epoch: 1e-8 * 10**(epoch / 20))\n",
        "\n",
        "# Initialize the optimizer\n",
        "optimizer = tf.keras.optimizers.SGD(momentum=0.9)\n",
        "\n",
        "# Set the training parameters\n",
        "model_tune.compile(loss=tf.keras.losses.Huber(), optimizer=optimizer)\n",
        "\n",
        "# Train the model\n",
        "history = model_tune.fit(dataset, epochs=100, callbacks=[lr_schedule])"
      ]
    },
    {
      "cell_type": "code",
      "execution_count": 10,
      "metadata": {
        "id": "AkBsrsXMzoWR",
        "colab": {
          "base_uri": "https://localhost:8080/",
          "height": 559
        },
        "outputId": "41a6c019-61e2-4698-bff5-f19e0dc8e29e"
      },
      "outputs": [
        {
          "output_type": "execute_result",
          "data": {
            "text/plain": [
              "(1e-08, 0.001, 0.0, 30.0)"
            ]
          },
          "metadata": {},
          "execution_count": 10
        },
        {
          "output_type": "display_data",
          "data": {
            "text/plain": [
              "<Figure size 1000x600 with 1 Axes>"
            ],
            "image/png": "[encoded data removed]"
          },
          "metadata": {}
        }
      ],
      "source": [
        "# Define the learning rate array\n",
        "lrs = 1e-8 * (10 ** (np.arange(100) / 20))\n",
        "\n",
        "# Set the figure size\n",
        "plt.figure(figsize=(10, 6))\n",
        "\n",
        "# Set the grid\n",
        "plt.grid(True)\n",
        "\n",
        "# Plot the loss in log scale\n",
        "plt.semilogx(lrs, history.history[\"loss\"])\n",
        "\n",
        "# Increase the tickmarks size\n",
        "plt.tick_params('both', length=10, width=1, which='both')\n",
        "\n",
        "# Set the plot boundaries\n",
        "plt.axis([1e-8, 1e-3, 0, 30])"
      ]
    },
    {
      "cell_type": "markdown",
      "metadata": {
        "id": "i-lKNp4pq_w8"
      },
      "source": [
        "## Train the Model\n",
        "\n",
        "You can then proceed to train the model with your chosen learning rate.\n",
        "\n",
        "*Tip: When experimenting and you find yourself running different iterations of a model, you may want to use the [`clear_session()`](https://www.tensorflow.org/api_docs/python/tf/keras/backend/clear_session) method to declutter memory used by Keras. This is added in the first line below.*\n"
      ]
    },
    {
      "cell_type": "code",
      "execution_count": 11,
      "metadata": {
        "id": "4uh-97bpLZCA",
        "colab": {
          "base_uri": "https://localhost:8080/"
        },
        "outputId": "fa7c136d-89b2-48b1-802e-c9dc30a6fa2f"
      },
      "outputs": [
        {
          "output_type": "stream",
          "name": "stdout",
          "text": [
            "Epoch 1/100\n",
            "31/31 [==============================] - 6s 9ms/step - loss: 22.6183 - mae: 23.1156\n",
            "Epoch 2/100\n",
            "31/31 [==============================] - 0s 9ms/step - loss: 13.5691 - mae: 14.0613\n",
            "Epoch 3/100\n",
            "31/31 [==============================] - 0s 9ms/step - loss: 11.4658 - mae: 11.9571\n",
            "Epoch 4/100\n",
            "31/31 [==============================] - 0s 9ms/step - loss: 9.7169 - mae: 10.2023\n",
            "Epoch 5/100\n",
            "31/31 [==============================] - 0s 9ms/step - loss: 8.4822 - mae: 8.9686\n",
            "Epoch 6/100\n",
            "31/31 [==============================] - 0s 9ms/step - loss: 8.1625 - mae: 8.6472\n",
            "Epoch 7/100\n",
            "31/31 [==============================] - 0s 9ms/step - loss: 7.6093 - mae: 8.0894\n",
            "Epoch 8/100\n",
            "31/31 [==============================] - 0s 9ms/step - loss: 7.4181 - mae: 7.9000\n",
            "Epoch 9/100\n",
            "31/31 [==============================] - 0s 9ms/step - loss: 7.1498 - mae: 7.6300\n",
            "Epoch 10/100\n",
            "31/31 [==============================] - 0s 10ms/step - loss: 7.0431 - mae: 7.5240\n",
            "Epoch 11/100\n",
            "31/31 [==============================] - 0s 10ms/step - loss: 6.9259 - mae: 7.4102\n",
            "Epoch 12/100\n",
            "31/31 [==============================] - 1s 13ms/step - loss: 6.9977 - mae: 7.4809\n",
            "Epoch 13/100\n",
            "31/31 [==============================] - 1s 12ms/step - loss: 6.8979 - mae: 7.3813\n",
            "Epoch 14/100\n",
            "31/31 [==============================] - 1s 15ms/step - loss: 6.6661 - mae: 7.1477\n",
            "Epoch 15/100\n",
            "31/31 [==============================] - 1s 9ms/step - loss: 6.5581 - mae: 7.0410\n",
            "Epoch 16/100\n",
            "31/31 [==============================] - 0s 10ms/step - loss: 6.4581 - mae: 6.9375\n",
            "Epoch 17/100\n",
            "31/31 [==============================] - 0s 9ms/step - loss: 6.4792 - mae: 6.9603\n",
            "Epoch 18/100\n",
            "31/31 [==============================] - 0s 9ms/step - loss: 6.4324 - mae: 6.9145\n",
            "Epoch 19/100\n",
            "31/31 [==============================] - 0s 10ms/step - loss: 6.4167 - mae: 6.9003\n",
            "Epoch 20/100\n",
            "31/31 [==============================] - 0s 10ms/step - loss: 6.2326 - mae: 6.7118\n",
            "Epoch 21/100\n",
            "31/31 [==============================] - 0s 10ms/step - loss: 6.2176 - mae: 6.6979\n",
            "Epoch 22/100\n",
            "31/31 [==============================] - 0s 10ms/step - loss: 6.0488 - mae: 6.5279\n",
            "Epoch 23/100\n",
            "31/31 [==============================] - 0s 9ms/step - loss: 6.0229 - mae: 6.5007\n",
            "Epoch 24/100\n",
            "31/31 [==============================] - 0s 10ms/step - loss: 6.0361 - mae: 6.5184\n",
            "Epoch 25/100\n",
            "31/31 [==============================] - 0s 10ms/step - loss: 5.8514 - mae: 6.3334\n",
            "Epoch 26/100\n",
            "31/31 [==============================] - 0s 9ms/step - loss: 6.0204 - mae: 6.5011\n",
            "Epoch 27/100\n",
            "31/31 [==============================] - 0s 10ms/step - loss: 6.3152 - mae: 6.7995\n",
            "Epoch 28/100\n",
            "31/31 [==============================] - 0s 9ms/step - loss: 5.7564 - mae: 6.2368\n",
            "Epoch 29/100\n",
            "31/31 [==============================] - 0s 10ms/step - loss: 5.6882 - mae: 6.1656\n",
            "Epoch 30/100\n",
            "31/31 [==============================] - 0s 9ms/step - loss: 5.7449 - mae: 6.2284\n",
            "Epoch 31/100\n",
            "31/31 [==============================] - 0s 10ms/step - loss: 5.6441 - mae: 6.1239\n",
            "Epoch 32/100\n",
            "31/31 [==============================] - 0s 9ms/step - loss: 5.5908 - mae: 6.0701\n",
            "Epoch 33/100\n",
            "31/31 [==============================] - 0s 9ms/step - loss: 5.5988 - mae: 6.0763\n",
            "Epoch 34/100\n",
            "31/31 [==============================] - 0s 9ms/step - loss: 5.5282 - mae: 6.0043\n",
            "Epoch 35/100\n",
            "31/31 [==============================] - 0s 9ms/step - loss: 5.5838 - mae: 6.0584\n",
            "Epoch 36/100\n",
            "31/31 [==============================] - 0s 10ms/step - loss: 5.4638 - mae: 5.9409\n",
            "Epoch 37/100\n",
            "31/31 [==============================] - 1s 13ms/step - loss: 5.4374 - mae: 5.9158\n",
            "Epoch 38/100\n",
            "31/31 [==============================] - 1s 14ms/step - loss: 5.4518 - mae: 5.9319\n",
            "Epoch 39/100\n",
            "31/31 [==============================] - 1s 14ms/step - loss: 5.5327 - mae: 6.0122\n",
            "Epoch 40/100\n",
            "31/31 [==============================] - 1s 13ms/step - loss: 5.3130 - mae: 5.7929\n",
            "Epoch 41/100\n",
            "31/31 [==============================] - 0s 9ms/step - loss: 5.2838 - mae: 5.7632\n",
            "Epoch 42/100\n",
            "31/31 [==============================] - 0s 9ms/step - loss: 5.2334 - mae: 5.7117\n",
            "Epoch 43/100\n",
            "31/31 [==============================] - 0s 9ms/step - loss: 5.2238 - mae: 5.6979\n",
            "Epoch 44/100\n",
            "31/31 [==============================] - 0s 9ms/step - loss: 5.1756 - mae: 5.6530\n",
            "Epoch 45/100\n",
            "31/31 [==============================] - 0s 10ms/step - loss: 5.1088 - mae: 5.5834\n",
            "Epoch 46/100\n",
            "31/31 [==============================] - 0s 9ms/step - loss: 5.0856 - mae: 5.5627\n",
            "Epoch 47/100\n",
            "31/31 [==============================] - 0s 10ms/step - loss: 5.0834 - mae: 5.5643\n",
            "Epoch 48/100\n",
            "31/31 [==============================] - 0s 9ms/step - loss: 5.1000 - mae: 5.5766\n",
            "Epoch 49/100\n",
            "31/31 [==============================] - 0s 9ms/step - loss: 5.0864 - mae: 5.5654\n",
            "Epoch 50/100\n",
            "31/31 [==============================] - 0s 9ms/step - loss: 5.1830 - mae: 5.6588\n",
            "Epoch 51/100\n",
            "31/31 [==============================] - 0s 9ms/step - loss: 4.9985 - mae: 5.4734\n",
            "Epoch 52/100\n",
            "31/31 [==============================] - 0s 9ms/step - loss: 5.2099 - mae: 5.6860\n",
            "Epoch 53/100\n",
            "31/31 [==============================] - 0s 10ms/step - loss: 4.9101 - mae: 5.3854\n",
            "Epoch 54/100\n",
            "31/31 [==============================] - 0s 9ms/step - loss: 4.9160 - mae: 5.3942\n",
            "Epoch 55/100\n",
            "31/31 [==============================] - 0s 9ms/step - loss: 4.9732 - mae: 5.4523\n",
            "Epoch 56/100\n",
            "31/31 [==============================] - 0s 9ms/step - loss: 4.8904 - mae: 5.3674\n",
            "Epoch 57/100\n",
            "31/31 [==============================] - 0s 9ms/step - loss: 4.8886 - mae: 5.3635\n",
            "Epoch 58/100\n",
            "31/31 [==============================] - 0s 9ms/step - loss: 4.8662 - mae: 5.3426\n",
            "Epoch 59/100\n",
            "31/31 [==============================] - 1s 20ms/step - loss: 5.0608 - mae: 5.5379\n",
            "Epoch 60/100\n",
            "31/31 [==============================] - 1s 28ms/step - loss: 4.8231 - mae: 5.2975\n",
            "Epoch 61/100\n",
            "31/31 [==============================] - 1s 17ms/step - loss: 4.8725 - mae: 5.3487\n",
            "Epoch 62/100\n",
            "31/31 [==============================] - 1s 12ms/step - loss: 4.9268 - mae: 5.4018\n",
            "Epoch 63/100\n",
            "31/31 [==============================] - 0s 10ms/step - loss: 4.8593 - mae: 5.3349\n",
            "Epoch 64/100\n",
            "31/31 [==============================] - 0s 9ms/step - loss: 4.7519 - mae: 5.2246\n",
            "Epoch 65/100\n",
            "31/31 [==============================] - 0s 10ms/step - loss: 4.8712 - mae: 5.3464\n",
            "Epoch 66/100\n",
            "31/31 [==============================] - 0s 10ms/step - loss: 4.7387 - mae: 5.2128\n",
            "Epoch 67/100\n",
            "31/31 [==============================] - 0s 10ms/step - loss: 4.7243 - mae: 5.2014\n",
            "Epoch 68/100\n",
            "31/31 [==============================] - 0s 10ms/step - loss: 4.8184 - mae: 5.2942\n",
            "Epoch 69/100\n",
            "31/31 [==============================] - 0s 9ms/step - loss: 4.7015 - mae: 5.1766\n",
            "Epoch 70/100\n",
            "31/31 [==============================] - 0s 10ms/step - loss: 4.6651 - mae: 5.1424\n",
            "Epoch 71/100\n",
            "31/31 [==============================] - 0s 10ms/step - loss: 4.6900 - mae: 5.1677\n",
            "Epoch 72/100\n",
            "31/31 [==============================] - 0s 10ms/step - loss: 4.8310 - mae: 5.3112\n",
            "Epoch 73/100\n",
            "31/31 [==============================] - 0s 9ms/step - loss: 4.7186 - mae: 5.1933\n",
            "Epoch 74/100\n",
            "31/31 [==============================] - 0s 9ms/step - loss: 4.7377 - mae: 5.2091\n",
            "Epoch 75/100\n",
            "31/31 [==============================] - 0s 9ms/step - loss: 4.6603 - mae: 5.1367\n",
            "Epoch 76/100\n",
            "31/31 [==============================] - 0s 10ms/step - loss: 4.7140 - mae: 5.1887\n",
            "Epoch 77/100\n",
            "31/31 [==============================] - 0s 9ms/step - loss: 4.6773 - mae: 5.1508\n",
            "Epoch 78/100\n",
            "31/31 [==============================] - 0s 9ms/step - loss: 4.7290 - mae: 5.2050\n",
            "Epoch 79/100\n",
            "31/31 [==============================] - 0s 11ms/step - loss: 4.6179 - mae: 5.0921\n",
            "Epoch 80/100\n",
            "31/31 [==============================] - 0s 10ms/step - loss: 4.7508 - mae: 5.2282\n",
            "Epoch 81/100\n",
            "31/31 [==============================] - 0s 10ms/step - loss: 4.6970 - mae: 5.1730\n",
            "Epoch 82/100\n",
            "31/31 [==============================] - 0s 10ms/step - loss: 4.6259 - mae: 5.1040\n",
            "Epoch 83/100\n",
            "31/31 [==============================] - 0s 10ms/step - loss: 4.6543 - mae: 5.1303\n",
            "Epoch 84/100\n",
            "31/31 [==============================] - 1s 14ms/step - loss: 4.7404 - mae: 5.2178\n",
            "Epoch 85/100\n",
            "31/31 [==============================] - 1s 13ms/step - loss: 4.6938 - mae: 5.1713\n",
            "Epoch 86/100\n",
            "31/31 [==============================] - 1s 14ms/step - loss: 4.5794 - mae: 5.0531\n",
            "Epoch 87/100\n",
            "31/31 [==============================] - 0s 10ms/step - loss: 4.6332 - mae: 5.1105\n",
            "Epoch 88/100\n",
            "31/31 [==============================] - 0s 10ms/step - loss: 4.5646 - mae: 5.0371\n",
            "Epoch 89/100\n",
            "31/31 [==============================] - 0s 9ms/step - loss: 4.9002 - mae: 5.3776\n",
            "Epoch 90/100\n",
            "31/31 [==============================] - 0s 10ms/step - loss: 4.5419 - mae: 5.0165\n",
            "Epoch 91/100\n",
            "31/31 [==============================] - 0s 10ms/step - loss: 4.5336 - mae: 5.0128\n",
            "Epoch 92/100\n",
            "31/31 [==============================] - 0s 9ms/step - loss: 4.5975 - mae: 5.0751\n",
            "Epoch 93/100\n",
            "31/31 [==============================] - 0s 9ms/step - loss: 4.6213 - mae: 5.0915\n",
            "Epoch 94/100\n",
            "31/31 [==============================] - 0s 9ms/step - loss: 4.7530 - mae: 5.2336\n",
            "Epoch 95/100\n",
            "31/31 [==============================] - 0s 9ms/step - loss: 4.7357 - mae: 5.2117\n",
            "Epoch 96/100\n",
            "31/31 [==============================] - 0s 10ms/step - loss: 4.6216 - mae: 5.1007\n",
            "Epoch 97/100\n",
            "31/31 [==============================] - 0s 9ms/step - loss: 4.7994 - mae: 5.2755\n",
            "Epoch 98/100\n",
            "31/31 [==============================] - 0s 9ms/step - loss: 4.7620 - mae: 5.2393\n",
            "Epoch 99/100\n",
            "31/31 [==============================] - 0s 10ms/step - loss: 4.6799 - mae: 5.1523\n",
            "Epoch 100/100\n",
            "31/31 [==============================] - 0s 10ms/step - loss: 4.6094 - mae: 5.0900\n"
          ]
        }
      ],
      "source": [
        "# Reset states generated by Keras\n",
        "tf.keras.backend.clear_session()\n",
        "\n",
        "# Build the model\n",
        "model = tf.keras.models.Sequential([\n",
        "  tf.keras.layers.Lambda(lambda x: tf.expand_dims(x, axis=-1),\n",
        "                      input_shape=[None]),\n",
        "   tf.keras.layers.Bidirectional(tf.keras.layers.LSTM(32, return_sequences=True)),\n",
        "  tf.keras.layers.Bidirectional(tf.keras.layers.LSTM(32)),\n",
        "  tf.keras.layers.Dense(1),\n",
        "  tf.keras.layers.Lambda(lambda x: x * 100.0)\n",
        "])\n",
        "\n",
        "# Set the learning rate\n",
        "learning_rate = 2e-6\n",
        "\n",
        "# Set the optimizer\n",
        "optimizer = tf.keras.optimizers.SGD(learning_rate=learning_rate, momentum=0.9)\n",
        "\n",
        "# Set the training parameters\n",
        "model.compile(loss=tf.keras.losses.Huber(),\n",
        "              optimizer=optimizer,\n",
        "              metrics=[\"mae\"])\n",
        "\n",
        "# Train the model\n",
        "history = model.fit(dataset,epochs=100)"
      ]
    },
    {
      "cell_type": "markdown",
      "metadata": {
        "id": "RjP4kbGiI7cw"
      },
      "source": [
        "## Model Prediction\n",
        "\n",
        "You will then generate batches of windows to generate predictions that align with the validation set."
      ]
    },
    {
      "cell_type": "code",
      "execution_count": 12,
      "metadata": {
        "id": "QO8cfKwKBBG6"
      },
      "outputs": [],
      "source": [
        "def model_forecast(model, series, window_size, batch_size):\n",
        "    \"\"\"Uses an input model to generate predictions on data windows\n",
        "\n",
        "    Args:\n",
        "      model (TF Keras Model) - model that accepts data windows\n",
        "      series (array of float) - contains the values of the time series\n",
        "      window_size (int) - the number of time steps to include in the window\n",
        "      batch_size (int) - the batch size\n",
        "\n",
        "    Returns:\n",
        "      forecast (numpy array) - array containing predictions\n",
        "    \"\"\"\n",
        "\n",
        "    # Generate a TF Dataset from the series values\n",
        "    dataset = tf.data.Dataset.from_tensor_slices(series)\n",
        "\n",
        "    # Window the data but only take those with the specified size\n",
        "    dataset = dataset.window(window_size, shift=1, drop_remainder=True)\n",
        "\n",
        "    # Flatten the windows by putting its elements in a single batch\n",
        "    dataset = dataset.flat_map(lambda w: w.batch(window_size))\n",
        "\n",
        "    # Create batches of windows\n",
        "    dataset = dataset.batch(batch_size).prefetch(1)\n",
        "\n",
        "    # Get predictions on the entire dataset\n",
        "    forecast = model.predict(dataset)\n",
        "\n",
        "    return forecast"
      ]
    },
    {
      "cell_type": "code",
      "execution_count": 13,
      "metadata": {
        "id": "_plB3UseBD8o",
        "colab": {
          "base_uri": "https://localhost:8080/",
          "height": 560
        },
        "outputId": "dd3147a5-0e27-48df-d5a9-25ab72df7349"
      },
      "outputs": [
        {
          "output_type": "stream",
          "name": "stdout",
          "text": [
            "15/15 [==============================] - 1s 8ms/step\n"
          ]
        },
        {
          "output_type": "display_data",
          "data": {
            "text/plain": [
              "<Figure size 1000x600 with 1 Axes>"
            ],
            "image/png": "[encoded data removed]"
          },
          "metadata": {}
        }
      ],
      "source": [
        "# Reduce the original series\n",
        "forecast_series = series[split_time-window_size:-1]\n",
        "\n",
        "# Use helper function to generate predictions\n",
        "forecast = model_forecast(model, forecast_series, window_size, batch_size)\n",
        "\n",
        "# Drop single dimensional axis\n",
        "results = forecast.squeeze()\n",
        "\n",
        "# Plot the results\n",
        "plot_series(time_valid, (x_valid, results))"
      ]
    },
    {
      "cell_type": "markdown",
      "metadata": {
        "id": "Nn8iSQkZtaRC"
      },
      "source": [
        "You can then generate the metrics to evaluate the model's performance."
      ]
    },
    {
      "cell_type": "code",
      "execution_count": 14,
      "metadata": {
        "id": "-IKhueZaBGID",
        "colab": {
          "base_uri": "https://localhost:8080/"
        },
        "outputId": "95c54413-8c97-4bfa-ec20-7f5abf5694c5"
      },
      "outputs": [
        {
          "output_type": "stream",
          "name": "stdout",
          "text": [
            "76.56281\n",
            "6.235905\n"
          ]
        }
      ],
      "source": [
        "# Compute the MSE and MAE\n",
        "print(tf.keras.metrics.mean_squared_error(x_valid, results).numpy())\n",
        "print(tf.keras.metrics.mean_absolute_error(x_valid, results).numpy())"
      ]
    },
    {
      "cell_type": "markdown",
      "metadata": {
        "id": "bzPIqeMWvbPy"
      },
      "source": [
        "## Wrap Up\n",
        "\n",
        "This concludes this short exercise on using LSTMs for time series forecasting. Next week, you will build upon this and add convolutions. Then, you will start to move away from synthetic data and use real-world datasets. See you there!"
      ]
    },
    {
      "cell_type": "markdown",
      "metadata": {
        "id": "U5PqTePGHeMH"
      },
      "source": [
        "## Optional: Including a Validation Set while Training\n",
        "\n",
        "Back in the first course of this specialization, you saw how you can also monitor the performance of your model against a validation set while training. You can also do that for this lab.\n",
        "\n",
        "First, you need to generate a `val_set` which are data windows and labels that your model can accept. You can simply reuse the `windowed_dataset` function for that and you can pass in the `x_valid` points to generate the windows."
      ]
    },
    {
      "cell_type": "code",
      "execution_count": 15,
      "metadata": {
        "id": "kvFVwL3PC4iX"
      },
      "outputs": [],
      "source": [
        "# Generate data windows of the validation set\n",
        "val_set = windowed_dataset(x_valid, window_size, batch_size, shuffle_buffer_size)"
      ]
    },
    {
      "cell_type": "markdown",
      "metadata": {
        "id": "p68j6XxEvP9K"
      },
      "source": [
        "You can then do the same training as before but pass in the `val_set` to the `validation_data` parameter of the `fit()` method."
      ]
    },
    {
      "cell_type": "code",
      "execution_count": 16,
      "metadata": {
        "id": "wujKz6tXDSn0",
        "colab": {
          "base_uri": "https://localhost:8080/"
        },
        "outputId": "ad93f676-ac25-4e2b-c889-39773cab87de"
      },
      "outputs": [
        {
          "output_type": "stream",
          "name": "stdout",
          "text": [
            "Epoch 1/100\n",
            "31/31 [==============================] - 8s 57ms/step - loss: 49.1151 - mae: 49.6137 - val_loss: 25.7824 - val_mae: 26.2817\n",
            "Epoch 2/100\n",
            "31/31 [==============================] - 0s 12ms/step - loss: 14.5846 - mae: 15.0745 - val_loss: 29.3571 - val_mae: 29.8565\n",
            "Epoch 3/100\n",
            "31/31 [==============================] - 0s 13ms/step - loss: 9.6218 - mae: 10.1059 - val_loss: 20.8135 - val_mae: 21.3104\n",
            "Epoch 4/100\n",
            "31/31 [==============================] - 0s 13ms/step - loss: 8.2834 - mae: 8.7676 - val_loss: 16.5400 - val_mae: 17.0352\n",
            "Epoch 5/100\n",
            "31/31 [==============================] - 1s 14ms/step - loss: 7.8995 - mae: 8.3841 - val_loss: 15.1121 - val_mae: 15.6025\n",
            "Epoch 6/100\n",
            "31/31 [==============================] - 1s 13ms/step - loss: 7.6137 - mae: 8.0971 - val_loss: 14.4834 - val_mae: 14.9760\n",
            "Epoch 7/100\n",
            "31/31 [==============================] - 0s 13ms/step - loss: 7.3527 - mae: 7.8320 - val_loss: 13.8369 - val_mae: 14.3312\n",
            "Epoch 8/100\n",
            "31/31 [==============================] - 0s 13ms/step - loss: 7.1433 - mae: 7.6189 - val_loss: 12.6932 - val_mae: 13.1873\n",
            "Epoch 9/100\n",
            "31/31 [==============================] - 1s 16ms/step - loss: 6.9988 - mae: 7.4795 - val_loss: 11.1607 - val_mae: 11.6525\n",
            "Epoch 10/100\n",
            "31/31 [==============================] - 1s 19ms/step - loss: 6.8643 - mae: 7.3409 - val_loss: 10.9691 - val_mae: 11.4582\n",
            "Epoch 11/100\n",
            "31/31 [==============================] - 1s 13ms/step - loss: 6.7416 - mae: 7.2203 - val_loss: 10.4854 - val_mae: 10.9730\n",
            "Epoch 12/100\n",
            "31/31 [==============================] - 0s 13ms/step - loss: 6.6601 - mae: 7.1383 - val_loss: 9.9173 - val_mae: 10.4053\n",
            "Epoch 13/100\n",
            "31/31 [==============================] - 0s 13ms/step - loss: 6.5749 - mae: 7.0554 - val_loss: 9.0129 - val_mae: 9.5003\n",
            "Epoch 14/100\n",
            "31/31 [==============================] - 1s 14ms/step - loss: 6.3672 - mae: 6.8442 - val_loss: 9.2496 - val_mae: 9.7335\n",
            "Epoch 15/100\n",
            "31/31 [==============================] - 0s 13ms/step - loss: 6.2698 - mae: 6.7467 - val_loss: 8.3385 - val_mae: 8.8265\n",
            "Epoch 16/100\n",
            "31/31 [==============================] - 1s 14ms/step - loss: 6.1906 - mae: 6.6681 - val_loss: 8.2572 - val_mae: 8.7424\n",
            "Epoch 17/100\n",
            "31/31 [==============================] - 0s 13ms/step - loss: 6.0713 - mae: 6.5483 - val_loss: 8.1086 - val_mae: 8.5897\n",
            "Epoch 18/100\n",
            "31/31 [==============================] - 1s 14ms/step - loss: 6.0545 - mae: 6.5361 - val_loss: 7.6420 - val_mae: 8.1309\n",
            "Epoch 19/100\n",
            "31/31 [==============================] - 0s 12ms/step - loss: 5.8726 - mae: 6.3510 - val_loss: 7.8619 - val_mae: 8.3426\n",
            "Epoch 20/100\n",
            "31/31 [==============================] - 0s 13ms/step - loss: 5.8342 - mae: 6.3122 - val_loss: 7.0997 - val_mae: 7.5859\n",
            "Epoch 21/100\n",
            "31/31 [==============================] - 0s 12ms/step - loss: 5.8199 - mae: 6.2995 - val_loss: 7.3888 - val_mae: 7.8703\n",
            "Epoch 22/100\n",
            "31/31 [==============================] - 1s 14ms/step - loss: 5.7524 - mae: 6.2312 - val_loss: 7.3441 - val_mae: 7.8240\n",
            "Epoch 23/100\n",
            "31/31 [==============================] - 0s 12ms/step - loss: 5.6829 - mae: 6.1607 - val_loss: 6.9549 - val_mae: 7.4424\n",
            "Epoch 24/100\n",
            "31/31 [==============================] - 0s 13ms/step - loss: 5.6872 - mae: 6.1670 - val_loss: 7.4985 - val_mae: 7.9827\n",
            "Epoch 25/100\n",
            "31/31 [==============================] - 0s 13ms/step - loss: 5.5979 - mae: 6.0734 - val_loss: 6.9649 - val_mae: 7.4481\n",
            "Epoch 26/100\n",
            "31/31 [==============================] - 0s 13ms/step - loss: 5.5199 - mae: 6.0009 - val_loss: 7.4280 - val_mae: 7.9118\n",
            "Epoch 27/100\n",
            "31/31 [==============================] - 0s 12ms/step - loss: 5.5239 - mae: 6.0015 - val_loss: 6.7943 - val_mae: 7.2784\n",
            "Epoch 28/100\n",
            "31/31 [==============================] - 0s 13ms/step - loss: 5.4727 - mae: 5.9496 - val_loss: 6.5285 - val_mae: 7.0143\n",
            "Epoch 29/100\n",
            "31/31 [==============================] - 0s 13ms/step - loss: 5.4576 - mae: 5.9318 - val_loss: 7.0752 - val_mae: 7.5531\n",
            "Epoch 30/100\n",
            "31/31 [==============================] - 1s 15ms/step - loss: 5.4055 - mae: 5.8830 - val_loss: 6.8153 - val_mae: 7.2961\n",
            "Epoch 31/100\n",
            "31/31 [==============================] - 1s 23ms/step - loss: 5.3587 - mae: 5.8343 - val_loss: 7.4404 - val_mae: 7.9266\n",
            "Epoch 32/100\n",
            "31/31 [==============================] - 1s 12ms/step - loss: 5.3964 - mae: 5.8755 - val_loss: 7.1872 - val_mae: 7.6697\n",
            "Epoch 33/100\n",
            "31/31 [==============================] - 0s 13ms/step - loss: 5.3499 - mae: 5.8273 - val_loss: 7.1805 - val_mae: 7.6650\n",
            "Epoch 34/100\n",
            "31/31 [==============================] - 0s 12ms/step - loss: 5.3965 - mae: 5.8762 - val_loss: 7.2247 - val_mae: 7.7096\n",
            "Epoch 35/100\n",
            "31/31 [==============================] - 0s 13ms/step - loss: 5.2307 - mae: 5.7074 - val_loss: 7.2582 - val_mae: 7.7435\n",
            "Epoch 36/100\n",
            "31/31 [==============================] - 0s 13ms/step - loss: 5.3581 - mae: 5.8327 - val_loss: 7.0965 - val_mae: 7.5807\n",
            "Epoch 37/100\n",
            "31/31 [==============================] - 0s 13ms/step - loss: 5.2108 - mae: 5.6884 - val_loss: 6.5715 - val_mae: 7.0543\n",
            "Epoch 38/100\n",
            "31/31 [==============================] - 0s 13ms/step - loss: 5.1799 - mae: 5.6579 - val_loss: 6.4165 - val_mae: 6.9023\n",
            "Epoch 39/100\n",
            "31/31 [==============================] - 0s 13ms/step - loss: 5.1720 - mae: 5.6511 - val_loss: 6.4773 - val_mae: 6.9612\n",
            "Epoch 40/100\n",
            "31/31 [==============================] - 1s 14ms/step - loss: 5.1894 - mae: 5.6651 - val_loss: 6.7217 - val_mae: 7.1998\n",
            "Epoch 41/100\n",
            "31/31 [==============================] - 0s 12ms/step - loss: 5.2029 - mae: 5.6803 - val_loss: 6.4550 - val_mae: 6.9379\n",
            "Epoch 42/100\n",
            "31/31 [==============================] - 0s 13ms/step - loss: 5.1048 - mae: 5.5811 - val_loss: 6.8352 - val_mae: 7.3151\n",
            "Epoch 43/100\n",
            "31/31 [==============================] - 0s 12ms/step - loss: 5.0827 - mae: 5.5608 - val_loss: 6.5636 - val_mae: 7.0425\n",
            "Epoch 44/100\n",
            "31/31 [==============================] - 0s 13ms/step - loss: 5.0629 - mae: 5.5387 - val_loss: 6.1851 - val_mae: 6.6687\n",
            "Epoch 45/100\n",
            "31/31 [==============================] - 0s 13ms/step - loss: 5.1043 - mae: 5.5827 - val_loss: 7.5878 - val_mae: 8.0733\n",
            "Epoch 46/100\n",
            "31/31 [==============================] - 0s 13ms/step - loss: 5.1356 - mae: 5.6105 - val_loss: 7.3067 - val_mae: 7.7898\n",
            "Epoch 47/100\n",
            "31/31 [==============================] - 0s 13ms/step - loss: 5.0345 - mae: 5.5118 - val_loss: 6.1600 - val_mae: 6.6431\n",
            "Epoch 48/100\n",
            "31/31 [==============================] - 0s 13ms/step - loss: 5.0454 - mae: 5.5235 - val_loss: 7.0412 - val_mae: 7.5264\n",
            "Epoch 49/100\n",
            "31/31 [==============================] - 0s 13ms/step - loss: 5.0181 - mae: 5.4975 - val_loss: 5.9877 - val_mae: 6.4703\n",
            "Epoch 50/100\n",
            "31/31 [==============================] - 1s 15ms/step - loss: 4.9666 - mae: 5.4411 - val_loss: 5.8273 - val_mae: 6.3083\n",
            "Epoch 51/100\n",
            "31/31 [==============================] - 1s 23ms/step - loss: 5.0395 - mae: 5.5186 - val_loss: 5.7933 - val_mae: 6.2734\n",
            "Epoch 52/100\n",
            "31/31 [==============================] - 1s 14ms/step - loss: 5.1636 - mae: 5.6412 - val_loss: 7.0500 - val_mae: 7.5331\n",
            "Epoch 53/100\n",
            "31/31 [==============================] - 0s 13ms/step - loss: 4.9351 - mae: 5.4110 - val_loss: 6.2025 - val_mae: 6.6848\n",
            "Epoch 54/100\n",
            "31/31 [==============================] - 0s 12ms/step - loss: 4.9122 - mae: 5.3882 - val_loss: 5.8968 - val_mae: 6.3759\n",
            "Epoch 55/100\n",
            "31/31 [==============================] - 0s 13ms/step - loss: 4.9242 - mae: 5.4023 - val_loss: 6.4278 - val_mae: 6.9069\n",
            "Epoch 56/100\n",
            "31/31 [==============================] - 0s 13ms/step - loss: 4.8720 - mae: 5.3484 - val_loss: 6.0773 - val_mae: 6.5585\n",
            "Epoch 57/100\n",
            "31/31 [==============================] - 0s 13ms/step - loss: 4.8988 - mae: 5.3771 - val_loss: 6.3478 - val_mae: 6.8264\n",
            "Epoch 58/100\n",
            "31/31 [==============================] - 0s 13ms/step - loss: 4.8887 - mae: 5.3651 - val_loss: 5.7102 - val_mae: 6.1873\n",
            "Epoch 59/100\n",
            "31/31 [==============================] - 0s 13ms/step - loss: 4.8424 - mae: 5.3156 - val_loss: 5.8996 - val_mae: 6.3830\n",
            "Epoch 60/100\n",
            "31/31 [==============================] - 0s 13ms/step - loss: 4.9405 - mae: 5.4209 - val_loss: 5.7877 - val_mae: 6.2684\n",
            "Epoch 61/100\n",
            "31/31 [==============================] - 0s 13ms/step - loss: 4.8737 - mae: 5.3524 - val_loss: 5.9654 - val_mae: 6.4465\n",
            "Epoch 62/100\n",
            "31/31 [==============================] - 0s 13ms/step - loss: 4.8431 - mae: 5.3188 - val_loss: 6.7763 - val_mae: 7.2588\n",
            "Epoch 63/100\n",
            "31/31 [==============================] - 0s 12ms/step - loss: 4.8146 - mae: 5.2910 - val_loss: 5.8985 - val_mae: 6.3817\n",
            "Epoch 64/100\n",
            "31/31 [==============================] - 0s 13ms/step - loss: 4.7973 - mae: 5.2728 - val_loss: 5.7136 - val_mae: 6.1926\n",
            "Epoch 65/100\n",
            "31/31 [==============================] - 0s 13ms/step - loss: 4.7740 - mae: 5.2517 - val_loss: 6.2594 - val_mae: 6.7393\n",
            "Epoch 66/100\n",
            "31/31 [==============================] - 0s 13ms/step - loss: 4.8909 - mae: 5.3685 - val_loss: 7.6348 - val_mae: 8.1217\n",
            "Epoch 67/100\n",
            "31/31 [==============================] - 0s 13ms/step - loss: 4.8609 - mae: 5.3344 - val_loss: 6.8966 - val_mae: 7.3784\n",
            "Epoch 68/100\n",
            "31/31 [==============================] - 1s 14ms/step - loss: 4.8898 - mae: 5.3695 - val_loss: 5.9550 - val_mae: 6.4352\n",
            "Epoch 69/100\n",
            "31/31 [==============================] - 1s 18ms/step - loss: 4.7699 - mae: 5.2480 - val_loss: 7.2896 - val_mae: 7.7722\n",
            "Epoch 70/100\n",
            "31/31 [==============================] - 1s 19ms/step - loss: 4.7634 - mae: 5.2375 - val_loss: 5.9379 - val_mae: 6.4155\n",
            "Epoch 71/100\n",
            "31/31 [==============================] - 1s 14ms/step - loss: 4.7064 - mae: 5.1818 - val_loss: 5.9281 - val_mae: 6.4055\n",
            "Epoch 72/100\n",
            "31/31 [==============================] - 0s 13ms/step - loss: 4.7536 - mae: 5.2325 - val_loss: 6.6761 - val_mae: 7.1592\n",
            "Epoch 73/100\n",
            "31/31 [==============================] - 0s 12ms/step - loss: 4.7171 - mae: 5.1931 - val_loss: 5.7125 - val_mae: 6.1975\n",
            "Epoch 74/100\n",
            "31/31 [==============================] - 0s 13ms/step - loss: 4.6896 - mae: 5.1672 - val_loss: 7.4788 - val_mae: 7.9639\n",
            "Epoch 75/100\n",
            "31/31 [==============================] - 0s 13ms/step - loss: 4.8494 - mae: 5.3244 - val_loss: 5.8339 - val_mae: 6.3160\n",
            "Epoch 76/100\n",
            "31/31 [==============================] - 1s 13ms/step - loss: 4.8245 - mae: 5.3034 - val_loss: 5.5329 - val_mae: 6.0095\n",
            "Epoch 77/100\n",
            "31/31 [==============================] - 0s 13ms/step - loss: 4.6693 - mae: 5.1475 - val_loss: 5.6710 - val_mae: 6.1555\n",
            "Epoch 78/100\n",
            "31/31 [==============================] - 0s 13ms/step - loss: 4.6677 - mae: 5.1438 - val_loss: 5.9700 - val_mae: 6.4461\n",
            "Epoch 79/100\n",
            "31/31 [==============================] - 0s 12ms/step - loss: 4.6908 - mae: 5.1658 - val_loss: 5.7257 - val_mae: 6.2104\n",
            "Epoch 80/100\n",
            "31/31 [==============================] - 1s 14ms/step - loss: 4.7998 - mae: 5.2794 - val_loss: 6.7994 - val_mae: 7.2811\n",
            "Epoch 81/100\n",
            "31/31 [==============================] - 1s 13ms/step - loss: 4.7224 - mae: 5.1984 - val_loss: 5.6300 - val_mae: 6.1104\n",
            "Epoch 82/100\n",
            "31/31 [==============================] - 0s 13ms/step - loss: 4.6806 - mae: 5.1559 - val_loss: 6.4972 - val_mae: 6.9796\n",
            "Epoch 83/100\n",
            "31/31 [==============================] - 0s 13ms/step - loss: 4.6520 - mae: 5.1286 - val_loss: 5.8219 - val_mae: 6.3000\n",
            "Epoch 84/100\n",
            "31/31 [==============================] - 0s 13ms/step - loss: 4.7080 - mae: 5.1875 - val_loss: 6.1990 - val_mae: 6.6776\n",
            "Epoch 85/100\n",
            "31/31 [==============================] - 0s 13ms/step - loss: 4.7695 - mae: 5.2506 - val_loss: 5.8568 - val_mae: 6.3354\n",
            "Epoch 86/100\n",
            "31/31 [==============================] - 1s 14ms/step - loss: 4.7210 - mae: 5.1963 - val_loss: 6.6636 - val_mae: 7.1455\n",
            "Epoch 87/100\n",
            "31/31 [==============================] - 0s 13ms/step - loss: 4.7248 - mae: 5.2017 - val_loss: 5.5931 - val_mae: 6.0768\n",
            "Epoch 88/100\n",
            "31/31 [==============================] - 0s 13ms/step - loss: 4.6955 - mae: 5.1730 - val_loss: 5.9842 - val_mae: 6.4638\n",
            "Epoch 89/100\n",
            "31/31 [==============================] - 0s 13ms/step - loss: 4.6736 - mae: 5.1488 - val_loss: 5.6419 - val_mae: 6.1253\n",
            "Epoch 90/100\n",
            "31/31 [==============================] - 1s 23ms/step - loss: 4.6215 - mae: 5.0998 - val_loss: 5.7658 - val_mae: 6.2456\n",
            "Epoch 91/100\n",
            "31/31 [==============================] - 1s 18ms/step - loss: 4.6068 - mae: 5.0827 - val_loss: 6.2804 - val_mae: 6.7601\n",
            "Epoch 92/100\n",
            "31/31 [==============================] - 0s 13ms/step - loss: 4.6923 - mae: 5.1690 - val_loss: 5.5781 - val_mae: 6.0614\n",
            "Epoch 93/100\n",
            "31/31 [==============================] - 0s 13ms/step - loss: 4.6128 - mae: 5.0893 - val_loss: 5.7432 - val_mae: 6.2235\n",
            "Epoch 94/100\n",
            "31/31 [==============================] - 1s 13ms/step - loss: 4.7154 - mae: 5.1929 - val_loss: 6.0339 - val_mae: 6.5130\n",
            "Epoch 95/100\n",
            "31/31 [==============================] - 1s 14ms/step - loss: 4.8127 - mae: 5.2900 - val_loss: 5.9480 - val_mae: 6.4273\n",
            "Epoch 96/100\n",
            "31/31 [==============================] - 1s 13ms/step - loss: 4.8588 - mae: 5.3404 - val_loss: 5.9275 - val_mae: 6.4081\n",
            "Epoch 97/100\n",
            "31/31 [==============================] - 0s 13ms/step - loss: 4.6419 - mae: 5.1170 - val_loss: 6.0419 - val_mae: 6.5215\n",
            "Epoch 98/100\n",
            "31/31 [==============================] - 1s 13ms/step - loss: 4.6844 - mae: 5.1585 - val_loss: 5.8740 - val_mae: 6.3555\n",
            "Epoch 99/100\n",
            "31/31 [==============================] - 0s 13ms/step - loss: 4.6348 - mae: 5.1115 - val_loss: 5.5462 - val_mae: 6.0299\n",
            "Epoch 100/100\n",
            "31/31 [==============================] - 0s 13ms/step - loss: 4.5964 - mae: 5.0711 - val_loss: 5.6406 - val_mae: 6.1227\n"
          ]
        }
      ],
      "source": [
        "# Reset states generated by Keras\n",
        "tf.keras.backend.clear_session()\n",
        "\n",
        "# Build the model\n",
        "model = tf.keras.models.Sequential([\n",
        "  tf.keras.layers.Lambda(lambda x: tf.expand_dims(x, axis=-1),\n",
        "                      input_shape=[None]),\n",
        "   tf.keras.layers.Bidirectional(tf.keras.layers.LSTM(32, return_sequences=True)),\n",
        "  tf.keras.layers.Bidirectional(tf.keras.layers.LSTM(32)),\n",
        "  tf.keras.layers.Dense(1),\n",
        "  tf.keras.layers.Lambda(lambda x: x * 100.0)\n",
        "])\n",
        "\n",
        "# Set the learning rate\n",
        "learning_rate = 2e-6\n",
        "\n",
        "# Set the optimizer\n",
        "optimizer = tf.keras.optimizers.SGD(learning_rate=learning_rate, momentum=0.9)\n",
        "\n",
        "# Set the training parameters\n",
        "model.compile(loss=tf.keras.losses.Huber(),\n",
        "              optimizer=optimizer,\n",
        "              metrics=[\"mae\"])\n",
        "\n",
        "# Train the model\n",
        "history = model.fit(dataset,epochs=100, validation_data=val_set)"
      ]
    }
  ],
  "metadata": {
    "accelerator": "GPU",
    "colab": {
      "provenance": [],
      "gpuType": "T4"
    },
    "kernelspec": {
      "display_name": "Python 3",
      "name": "python3"
    },
    "language_info": {
      "codemirror_mode": {
        "name": "ipython",
        "version": 3
      },
      "file_extension": ".py",
      "mimetype": "text/x-python",
      "name": "python",
      "nbconvert_exporter": "python",
      "pygments_lexer": "ipython3",
      "version": "3.9.13"
    }
  },
  "nbformat": 4,
  "nbformat_minor": 0
}